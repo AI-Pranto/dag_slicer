{
 "metadata": {
  "name": "",
  "signature": "sha256:e39d4297fe672af5db6120f09d8e2ab9d532224644905992ac26e222e631e56a"
 },
 "nbformat": 3,
 "nbformat_minor": 0,
 "worksheets": [
  {
   "cells": [
    {
     "cell_type": "code",
     "collapsed": false,
     "input": [
      "from dagmc_slice_tool import dagmc_slicer"
     ],
     "language": "python",
     "metadata": {},
     "outputs": [],
     "prompt_number": 1
    },
    {
     "cell_type": "code",
     "collapsed": false,
     "input": [
      "slicer = dagmc_slicer(filename = \"teapot_grps_zip.h5m\")"
     ],
     "language": "python",
     "metadata": {},
     "outputs": [],
     "prompt_number": 2
    },
    {
     "cell_type": "code",
     "collapsed": false,
     "input": [
      "print slicer.axis #axis for the slice (default)\n",
      "print slicer.coord #coordinate on which to slice for the slicer.axis (default is 0.0)\n",
      "print slicer.by_group #indicates whether the plot will be done by tally/material group or not\n",
      "print slicer.filename #filename to be sliced"
     ],
     "language": "python",
     "metadata": {},
     "outputs": [
      {
       "output_type": "stream",
       "stream": "stdout",
       "text": [
        "0\n",
        "0.0\n",
        "False\n",
        "teapot_grps_zip.h5m\n"
       ]
      }
     ],
     "prompt_number": 3
    },
    {
     "cell_type": "code",
     "collapsed": false,
     "input": [
      "slicer.create_slice()"
     ],
     "language": "python",
     "metadata": {},
     "outputs": [],
     "prompt_number": 4
    },
    {
     "cell_type": "code",
     "collapsed": false,
     "input": [
      "slicer.show_slice() #check boxes for fill and visibility only apply to a model with groups (example to come)"
     ],
     "language": "python",
     "metadata": {},
     "outputs": [],
     "prompt_number": 5
    },
    {
     "cell_type": "code",
     "collapsed": false,
     "input": [
      "slicer.axis = 2 #the slicer's axis can be changed directly, but the slice will need to be regenerated (or now)\n",
      "slicer.create_slice()"
     ],
     "language": "python",
     "metadata": {},
     "outputs": [],
     "prompt_number": 6
    },
    {
     "cell_type": "code",
     "collapsed": false,
     "input": [
      "slicer.show_slice()"
     ],
     "language": "python",
     "metadata": {},
     "outputs": [],
     "prompt_number": 7
    },
    {
     "cell_type": "code",
     "collapsed": false,
     "input": [
      "slicer.figure #matplotlib figure and axes can be accessed as attributes of the slicer\n",
      "slicer.plt_ax\n",
      "\n"
     ],
     "language": "python",
     "metadata": {},
     "outputs": [
      {
       "metadata": {},
       "output_type": "pyout",
       "prompt_number": 8,
       "text": [
        "<matplotlib.axes.AxesSubplot at 0x7fa496c66190>"
       ]
      }
     ],
     "prompt_number": 8
    },
    {
     "cell_type": "code",
     "collapsed": false,
     "input": [
      "slicer.by_group = True #slicer setting for groups can be set directly or on file open"
     ],
     "language": "python",
     "metadata": {},
     "outputs": [],
     "prompt_number": 9
    },
    {
     "cell_type": "code",
     "collapsed": false,
     "input": [
      "#but they can also be set upon creation\n",
      "slicer = dagmc_slicer( filename = \"teapot_grps_zip.h5m\", axis = 2, coordinate = 0.0, by_group = True)"
     ],
     "language": "python",
     "metadata": {},
     "outputs": [],
     "prompt_number": 10
    },
    {
     "cell_type": "code",
     "collapsed": false,
     "input": [
      "slicer.create_slice()"
     ],
     "language": "python",
     "metadata": {},
     "outputs": [],
     "prompt_number": 11
    },
    {
     "cell_type": "code",
     "collapsed": false,
     "input": [
      "slicer.show_slice()\n",
      "#groups can now be selected in the legend of the plot to set their fill and visibility\n",
      "#the legend will reflect the state of each group"
     ],
     "language": "python",
     "metadata": {},
     "outputs": [],
     "prompt_number": 13
    },
    {
     "cell_type": "code",
     "collapsed": false,
     "input": [],
     "language": "python",
     "metadata": {},
     "outputs": []
    }
   ],
   "metadata": {}
  }
 ]
}